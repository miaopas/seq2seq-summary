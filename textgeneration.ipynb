{
 "cells": [
  {
   "cell_type": "code",
   "execution_count": 1,
   "metadata": {},
   "outputs": [
    {
     "name": "stderr",
     "output_type": "stream",
     "text": [
      "/home/user/workspace/Workspace/seq2seq summary/env/lib/python3.9/site-packages/tqdm/auto.py:22: TqdmWarning: IProgress not found. Please update jupyter and ipywidgets. See https://ipywidgets.readthedocs.io/en/stable/user_install.html\n",
      "  from .autonotebook import tqdm as notebook_tqdm\n",
      "/home/user/workspace/Workspace/seq2seq summary/env/lib/python3.9/site-packages/torch/utils/data/datapipes/utils/common.py:24: UserWarning: Lambda function is not supported for pickle, please use regular python function or functools.partial instead.\n",
      "  warnings.warn(\n",
      "/home/user/workspace/Workspace/seq2seq summary/env/lib/python3.9/site-packages/torch/utils/data/datapipes/iter/selecting.py:54: UserWarning: Lambda function is not supported for pickle, please use regular python function or functools.partial instead.\n",
      "  warnings.warn(\"Lambda function is not supported for pickle, please use \"\n"
     ]
    }
   ],
   "source": [
    "from torch import nn\n",
    "from lib.utils import *\n",
    "from lib.model import *\n",
    "import torch\n",
    "import numpy as np\n",
    "DTYPE = torch.double\n",
    "class LSTMTextGeneration(Module):\n",
    "    def __init__(self, input_dim, output_dim, hid_dim):\n",
    "        super().__init__()  \n",
    "        self.rnn = nn.LSTM(input_size=input_dim, hidden_size=hid_dim)\n",
    "        self.dense = nn.Linear(hid_dim, output_dim)\n",
    "    def forward(self, x):\n",
    "        \n",
    "        #src = [batch size, input len, input dim]\n",
    "        y = self.rnn(x)[0][:,-1,:]\n",
    "        y = self.dense(y)\n",
    "        # output = nn.Softmax(dim=-1)(y)\n",
    "        output = y\n",
    "\n",
    "        return output\n",
    "        \n",
    "import torchtext\n",
    "d = torchtext.datasets.WikiText2()\n",
    "def filt(string):\n",
    "    if string.strip() == '':\n",
    "        return False\n",
    "    filt = ['=', '<', '>', '[']\n",
    "    for s in string:\n",
    "        if s in filt:\n",
    "            return False\n",
    "    return True\n",
    "\n",
    "\n",
    "l = [string for string in list(iter(d[0]))+list(iter(d[1]))+list(iter(d[2])) if filt(string)]\n",
    "# with open('quotes.txt', 'w', encoding='utf-8') as f:\n",
    "#     f.write(''.join(l))\n",
    "# text = open('quotes.txt', 'r', encoding='utf-8').read()\n",
    "import string\n",
    "with open('shakespeare.txt', encoding='utf-8') as f:\n",
    "    text = f.read()\n"
   ]
  },
  {
   "cell_type": "code",
   "execution_count": 2,
   "metadata": {},
   "outputs": [
    {
     "name": "stdout",
     "output_type": "stream",
     "text": [
      "total chars: 65\n",
      "total chars: 65\n",
      "num sequences: 371785\n",
      "corpus length: 1115394\n"
     ]
    }
   ],
   "source": [
    "# text = ''.join([c for c in text.lower() if c in string.printable])\n",
    "chars = sorted(list(set(text)))\n",
    "print('total chars:', len(chars))\n",
    "char_int = {c: i for i, c in enumerate(chars)}\n",
    "int_char = {i: c for i, c in enumerate(chars)}\n",
    "chars = sorted(list(set(text)))\n",
    "print('total chars:', len(chars))\n",
    "char_indices = {c: i for i, c in enumerate(chars)}\n",
    "indices_char = {i: c for i, c in enumerate(chars)}\n",
    "\n",
    "maxlen = 40\n",
    "step = 3\n",
    "sentences = []\n",
    "next_chars = []\n",
    "for i in range(0, len(text) - maxlen, step):\n",
    "    sentences.append(text[i: i + maxlen])\n",
    "    next_chars.append(text[i + maxlen])\n",
    "print(f'num sequences: {len(sentences)}')\n",
    "print('corpus length:', len(text))"
   ]
  },
  {
   "cell_type": "code",
   "execution_count": 3,
   "metadata": {},
   "outputs": [],
   "source": [
    "x = np.zeros((len(sentences), maxlen, len(chars)))\n",
    "y = np.zeros((len(sentences), len(chars)))\n",
    "for i, sentence in enumerate(sentences):\n",
    "    for t, char in enumerate(sentence):\n",
    "        x[i, t, char_indices[char]] = 1\n",
    "    y[i, char_indices[next_chars[i]]] = 1"
   ]
  },
  {
   "cell_type": "code",
   "execution_count": 4,
   "metadata": {},
   "outputs": [
    {
     "name": "stdout",
     "output_type": "stream",
     "text": [
      "The model has 108,225 trainable parameters\n"
     ]
    }
   ],
   "source": [
    "model = LSTMTextGeneration(input_dim=65,hid_dim=128, output_dim=len(chars),).double().to('cuda:3')\n",
    "model.count_parameters()\n",
    "dataset = Dataset(x,y , dtype=DTYPE, device='cuda:3')\n",
    "# dataset.Y =dataset.Y.softmax(dim=1)\n",
    "train_data = torch.utils.data.DataLoader(dataset, batch_size=128,drop_last=True)\n",
    "test_data = torch.utils.data.DataLoader(dataset[:500], batch_size=128,drop_last=True)"
   ]
  },
  {
   "cell_type": "code",
   "execution_count": 5,
   "metadata": {},
   "outputs": [
    {
     "data": {
      "text/plain": [
       "<All keys matched successfully>"
      ]
     },
     "execution_count": 5,
     "metadata": {},
     "output_type": "execute_result"
    }
   ],
   "source": [
    "model.load_state_dict(torch.load('saved_model/text_generation/saved_model.pt'))"
   ]
  },
  {
   "cell_type": "code",
   "execution_count": 6,
   "metadata": {},
   "outputs": [],
   "source": [
    "# train_model(name='text_generation',model=model,train_data=train_data, test_data=test_data, criterion=nn.CrossEntropyLoss())"
   ]
  },
  {
   "cell_type": "code",
   "execution_count": 14,
   "metadata": {},
   "outputs": [],
   "source": [
    "def sample(preds, temperature=1.0):\n",
    "    \"\"\"\n",
    "    Helper function to sample an index from a probability array\n",
    "    \n",
    "    Parameters:\n",
    "        preds: numpy array of predicted probabilities\n",
    "        temperature: controls the diversity when picking from preds\n",
    "    \"\"\"\n",
    "    preds = np.asarray(preds).astype('float64')\n",
    "    preds = np.log(preds) / temperature\n",
    "    exp_preds = np.exp(preds)\n",
    "    preds = exp_preds / np.sum(exp_preds)\n",
    "    probas = np.random.multinomial(1, preds, 1)\n",
    "    return np.argmax(probas)\n",
    "import sys\n",
    "from scipy.special import softmax\n",
    "def generate_text(diversity=0.2, sentence=None, start_index=None):\n",
    "    \"\"\"\n",
    "    Generate text using trained model\n",
    "    \n",
    "    Parameters:\n",
    "        diversity: controls randomness of texts, higher = more variety\n",
    "        sentence: starting sentence as seed\n",
    "        start_index: starting index in text as seed\n",
    "    \"\"\"\n",
    "    print(f'----- diversity: {diversity}')\n",
    "\n",
    "    generated = ''\n",
    "    if start_index is None:\n",
    "        start_index = np.random.randint(0, len(text)-maxlen)\n",
    "    if sentence is None:\n",
    "        sentence = text[start_index: start_index + maxlen]\n",
    "    else:\n",
    "        assert len(sentence) > maxlen, f'Need at least {maxlen} characters to start'\n",
    "        sentence = sentence[:maxlen]\n",
    "    generated += sentence\n",
    "    print(f'----- Generating with seed: \\n  \"{sentence}\" \\n')\n",
    "    sys.stdout.write(generated)\n",
    "\n",
    "    for i in range(400):\n",
    "        x_pred = np.zeros((1, maxlen, len(chars)))\n",
    "        for t, char in enumerate(sentence):\n",
    "            x_pred[0, t, char_indices[char]] = 1.\n",
    "\n",
    "        preds = model(torch.tensor(x_pred, dtype=DTYPE, device='cuda:3'))[0].detach().cpu().numpy()\n",
    "        preds = softmax(preds)\n",
    "        next_index = sample(preds, diversity)\n",
    "\n",
    "        # next_index = np.argmax(preds)\n",
    "\n",
    "        next_char = indices_char[next_index]\n",
    "\n",
    "        sentence = sentence[1:] + next_char\n",
    "\n",
    "        sys.stdout.write(next_char)\n",
    "        sys.stdout.flush()\n",
    "    print()\n",
    "    return sentence"
   ]
  },
  {
   "cell_type": "code",
   "execution_count": 16,
   "metadata": {},
   "outputs": [
    {
     "name": "stdout",
     "output_type": "stream",
     "text": [
      "----- diversity: 1\n",
      "----- Generating with seed: \n",
      "  \"This is not a good one to learn arbr ary\" \n",
      "\n",
      "This is not a good one to learn arbr ary.\n",
      "Fithe omenfors, mesir d mppar,\n",
      "\n",
      "P n.--\n",
      "Fhad ow , gombu ime, thoupool akiverngowldlle Pe,\n",
      "\n",
      "\n",
      "Whe LIatinchet t gin cku hunlore t ha ime whyo,\n",
      "Fos angerd pin cemy'ed at ofo t s?\n",
      "LOSAShext, chy ln's hendent, sur athe, athr d, t at yot'sools akes'BAS oversped hery,\n",
      "Hor, akintrth mblor,\n",
      "\n",
      "ANThinthedyonorvivo wowher, wll ng,\n",
      "SATo orge ar:\n",
      "ONThis y shinf hurdouwarevititreechod\n",
      "ESSPatckequpe mupod ONLONTan\n"
     ]
    },
    {
     "data": {
      "text/plain": [
       "'ititreechod\\nESSPatckequpe mupod ONLONTan'"
      ]
     },
     "execution_count": 16,
     "metadata": {},
     "output_type": "execute_result"
    }
   ],
   "source": [
    "start_index = 321\n",
    "generate_text(diversity=1, sentence='This is not a good one to learn arbr ary.')"
   ]
  },
  {
   "cell_type": "code",
   "execution_count": null,
   "metadata": {},
   "outputs": [],
   "source": [
    "preds"
   ]
  }
 ],
 "metadata": {
  "interpreter": {
   "hash": "f3f32f163706b7fb11f423ee4f06c8ed2e2c5bd50d42abaab97e3771b0c86c87"
  },
  "kernelspec": {
   "display_name": "Python 3.9.7 ('env': venv)",
   "language": "python",
   "name": "python3"
  },
  "language_info": {
   "codemirror_mode": {
    "name": "ipython",
    "version": 3
   },
   "file_extension": ".py",
   "mimetype": "text/x-python",
   "name": "python",
   "nbconvert_exporter": "python",
   "pygments_lexer": "ipython3",
   "version": "3.9.7"
  },
  "orig_nbformat": 4
 },
 "nbformat": 4,
 "nbformat_minor": 2
}
