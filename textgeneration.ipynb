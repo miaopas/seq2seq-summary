{
 "cells": [
  {
   "cell_type": "code",
   "execution_count": 1,
   "metadata": {},
   "outputs": [
    {
     "name": "stdout",
     "output_type": "stream",
     "text": [
      "/home/user/workspace/Workspace/seq2seq summary/env/bin/python\n"
     ]
    }
   ],
   "source": [
    "from pl_test import TextGenerationModel\n",
    "\n",
    "model = TextGenerationModel.load_from_checkpoint('runs/text_generation/version_1/checkpoints/epoch=44-step=21465.ckpt')"
   ]
  },
  {
   "cell_type": "code",
   "execution_count": 3,
   "metadata": {},
   "outputs": [
    {
     "data": {
      "text/plain": [
       "' positive sales in Japan, and was praised by both Japanese and western critics. After release, it red t an the the in an a te ingerarithe the f then and con wang in thon a f thing the then therer athed n the te all t he the tin ofont ond the Be Core want thed The toure verin r can ang the me fr an ose thed t se alan he on and te ar thande an the it t to ted ted s wed therere orore ar the ral cond athe bllon arsthe the s ourene men there a as s rtinderin inin tin res s the t ind te we he tereron '"
      ]
     },
     "execution_count": 3,
     "metadata": {},
     "output_type": "execute_result"
    }
   ],
   "source": [
    "model.predict(start_index=11, diversity=0.4, length=400)"
   ]
  },
  {
   "cell_type": "code",
   "execution_count": null,
   "metadata": {},
   "outputs": [],
   "source": []
  }
 ],
 "metadata": {
  "interpreter": {
   "hash": "f3f32f163706b7fb11f423ee4f06c8ed2e2c5bd50d42abaab97e3771b0c86c87"
  },
  "kernelspec": {
   "display_name": "Python 3.9.7 ('env': venv)",
   "language": "python",
   "name": "python3"
  },
  "language_info": {
   "codemirror_mode": {
    "name": "ipython",
    "version": 3
   },
   "file_extension": ".py",
   "mimetype": "text/x-python",
   "name": "python",
   "nbconvert_exporter": "python",
   "pygments_lexer": "ipython3",
   "version": "3.9.7"
  },
  "orig_nbformat": 4
 },
 "nbformat": 4,
 "nbformat_minor": 2
}
