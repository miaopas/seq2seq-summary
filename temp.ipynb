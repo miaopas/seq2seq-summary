{
 "cells": [
  {
   "cell_type": "code",
   "execution_count": null,
   "metadata": {},
   "outputs": [],
   "source": [
    "import torch\n",
    "import torch.nn as nn\n",
    "import numpy as np\n",
    "from lib.model import RNN, DCN, Encoder, EncDec\n",
    "import random\n",
    "from lib.utils import Dataset,train_model, inference\n",
    "from math import exp\n",
    "from lib.generator import Shift, LorenzRandFGenerator\n",
    "from torch.utils.tensorboard import SummaryWriter\n",
    "\n",
    "SEED = 1234\n",
    "DTYPE = torch.float64\n",
    "random.seed(SEED)\n",
    "np.random.seed(SEED)\n",
    "torch.manual_seed(SEED)\n",
    "torch.cuda.manual_seed(SEED)\n",
    "torch.backends.cudnn.benchmark=True\n",
    "device = torch.device('cuda' if torch.cuda.is_available() else 'cpu')"
   ]
  },
  {
   "cell_type": "code",
   "execution_count": null,
   "metadata": {},
   "outputs": [],
   "source": [
    "data_name = f'Shift'\n",
    "\n",
    "train_size = 3000\n",
    "test_size = 500\n",
    "\n",
    "train_dataset = Dataset(*Shift({'path_len':128,'shift': 40}).generate(data_num=train_size), dtype=DTYPE, device=device)\n",
    "test_dataset = Dataset(*Shift({'path_len':128,'shift': 40}).generate(data_num=test_size), dtype=DTYPE, device=device)\n",
    "\n",
    "train_data = torch.utils.data.DataLoader(train_dataset, batch_size=128,drop_last=True)\n",
    "test_data = torch.utils.data.DataLoader(test_dataset, batch_size=128,drop_last=True)"
   ]
  },
  {
   "cell_type": "code",
   "execution_count": null,
   "metadata": {},
   "outputs": [],
   "source": [
    "experiment_name = f'{data_name}_rnn'\n",
    "rnn = RNN(input_dim=1, output_dim=1, hid_dim=32).double().to(device)\n",
    "rnn.load_state_dict(torch.load(f\"saved_model/{experiment_name}/best_valid.pt\"))\n",
    "rnn.count_parameters()\n",
    "# train_model(name=experiment_name,model=rnn,train_data=train_data, test_data=test_data)\n",
    "print(f'Best Valid Loss: {np.mean(inference(rnn, test_data)):.2e}')"
   ]
  },
  {
   "cell_type": "code",
   "execution_count": null,
   "metadata": {},
   "outputs": [],
   "source": [
    "experiment_name = f'{data_name}_cnn'\n",
    "cnn = DCN(input_dim=1, output_dim=1, hid_dim=1, kernel_size=2, num_layers=6).double().to(device)\n",
    "cnn.load_state_dict(torch.load(f\"saved_model/{experiment_name}/best_valid.pt\"))\n",
    "cnn.count_parameters()\n",
    "# train_model(name=experiment_name,model=cnn,train_data=train_data, test_data=test_data)\n",
    "print(f'Best Valid Loss: {np.mean(inference(cnn, test_data)):.2e}')"
   ]
  },
  {
   "cell_type": "code",
   "execution_count": null,
   "metadata": {},
   "outputs": [],
   "source": [
    "data_name = f'Shift'\n",
    "\n",
    "train_size = 3000\n",
    "test_size = 500\n",
    "\n",
    "patch_size = 8\n",
    "\n",
    "x, y = Shift({'path_len':128,'shift': 40}).generate(data_num=train_size)\n",
    "\n",
    "x = x.reshape(train_size, -1,patch_size)\n",
    "y = y.reshape(train_size, -1, patch_size)\n",
    "\n",
    "train_dataset = Dataset(x,y, dtype=DTYPE, device=device)\n",
    "\n",
    "xx, yy = Shift({'path_len':128,'shift': 40}).generate(data_num=test_size)\n",
    "\n",
    "xx = xx.reshape(test_size, -1,patch_size)\n",
    "yy = yy.reshape(test_size, -1, patch_size)\n",
    "\n",
    "test_dataset = Dataset(xx,yy , dtype=DTYPE, device=device)\n",
    "\n",
    "train_data = torch.utils.data.DataLoader(train_dataset, batch_size=128,drop_last=True)\n",
    "test_data = torch.utils.data.DataLoader(test_dataset, batch_size=128,drop_last=True)"
   ]
  },
  {
   "cell_type": "code",
   "execution_count": null,
   "metadata": {},
   "outputs": [],
   "source": [
    "experiment_name = f'{data_name}_transformer'\n",
    "transformer = Encoder(8, 8,hid_dim=16,n_layers=2,n_heads=2, pf_dim=8, dropout=0.1,device=device,max_length = 16,pos_embed = True, param = 'full').double().to(device)\n",
    "# transformer.load_state_dict(torch.load(f\"saved_model/{experiment_name}/best_valid.pt\"))\n",
    "transformer.count_parameters()\n",
    "train_model(name=experiment_name,model=transformer,train_data=train_data, test_data=test_data, epochs=10000)\n",
    "print(f'Best Valid Loss: {np.mean(inference(transformer, test_data)):.2e}')"
   ]
  },
  {
   "cell_type": "code",
   "execution_count": null,
   "metadata": {},
   "outputs": [],
   "source": [
    "experiment_name = f'{data_name}_encdec'\n",
    "encdec = EncDec(1, 1, hid_dim=8, output_len=128).double().to(device)\n",
    "encdec.load_state_dict(torch.load(f\"saved_model/{experiment_name}/best_valid.pt\"))\n",
    "# train_model(name=experiment_name,model=encdec,train_data=train_data, test_data=test_data)\n",
    "print(f'Best Valid Loss: {np.mean(inference(encdec, test_data)):.2e}')"
   ]
  },
  {
   "cell_type": "code",
   "execution_count": null,
   "metadata": {},
   "outputs": [],
   "source": [
    "data_name = f'Lorentz'\n",
    "\n",
    "\n",
    "train_size = 3000\n",
    "test_size = 500\n",
    "\n",
    "train_dataset = Dataset(*LorenzRandFGenerator({'path_len':128, 'n_init':train_size, 'K':1, 'J':6}).generate(data_num=train_size), dtype=DTYPE, device=device)\n",
    "test_dataset = Dataset(*LorenzRandFGenerator({'path_len':128, 'n_init':test_size,'K':1, 'J':6}).generate(data_num=test_size), dtype=DTYPE, device=device)\n",
    "\n",
    "\n",
    "\n",
    "train_data = torch.utils.data.DataLoader(train_dataset, batch_size=128,drop_last=True)\n",
    "test_data = torch.utils.data.DataLoader(test_dataset, batch_size=128,drop_last=True)"
   ]
  },
  {
   "cell_type": "code",
   "execution_count": null,
   "metadata": {},
   "outputs": [],
   "source": [
    "experiment_name = f'{data_name}_rnn'\n",
    "rnn = RNN(input_dim=1, output_dim=1, hid_dim=32, activation='tanh').double().to(device)\n",
    "rnn.load_state_dict(torch.load(f\"saved_model/{experiment_name}/best_valid.pt\"))\n",
    "rnn.count_parameters()\n",
    "# train_model(name=experiment_name,model=rnn,train_data=train_data, test_data=test_data)\n",
    "print(f'Best Valid Loss: {np.mean(inference(rnn, test_data)):.2e}')"
   ]
  },
  {
   "cell_type": "code",
   "execution_count": null,
   "metadata": {},
   "outputs": [],
   "source": [
    "experiment_name = f'{data_name}_cnn'\n",
    "cnn = DCN(input_dim=1, output_dim=1, hid_dim=16, kernel_size=2, num_layers=8, activation='tanh').double().to(device)\n",
    "cnn.load_state_dict(torch.load(f\"saved_model/{experiment_name}/best_valid.pt\"))\n",
    "cnn.count_parameters()\n",
    "# train_model(name=experiment_name,model=cnn,train_data=train_data, test_data=test_data)\n",
    "print(f'Best Valid Loss: {np.mean(inference(cnn, test_data)):.2e}')"
   ]
  },
  {
   "cell_type": "code",
   "execution_count": null,
   "metadata": {},
   "outputs": [],
   "source": [
    "experiment_name = f'{data_name}_encdec'\n",
    "encdec = EncDec(1, 1, hid_dim=64, output_len=128, activation='tanh').double().to(device)\n",
    "# transformer.load_state_dict(torch.load(f\"saved_model/{experiment_name}/best_valid.pt\"))\n",
    "train_model(name=experiment_name,model=encdec,train_data=train_data, test_data=test_data)\n",
    "print(f'Best Valid Loss: {np.mean(inference(encdec, test_data)):.2e}')"
   ]
  },
  {
   "cell_type": "code",
   "execution_count": null,
   "metadata": {},
   "outputs": [],
   "source": []
  }
 ],
 "metadata": {
  "interpreter": {
   "hash": "cee20aa2885cadc07e824ce5082d40bca942426616eda434cad5578791d33ff8"
  },
  "kernelspec": {
   "display_name": "Python 3.9.7 ('base')",
   "language": "python",
   "name": "python3"
  },
  "language_info": {
   "codemirror_mode": {
    "name": "ipython",
    "version": 3
   },
   "file_extension": ".py",
   "mimetype": "text/x-python",
   "name": "python",
   "nbconvert_exporter": "python",
   "pygments_lexer": "ipython3",
   "version": "3.9.7"
  },
  "orig_nbformat": 4
 },
 "nbformat": 4,
 "nbformat_minor": 2
}
